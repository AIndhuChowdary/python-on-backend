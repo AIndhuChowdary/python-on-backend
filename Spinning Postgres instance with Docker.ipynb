{
 "cells": [
  {
   "cell_type": "code",
   "execution_count": 1,
   "id": "9d05d53a-7b38-4e03-a9a7-9984cc917502",
   "metadata": {},
   "outputs": [],
   "source": [
    "##docker run postgres"
   ]
  },
  {
   "cell_type": "code",
   "execution_count": 2,
   "id": "77e1a28b-3187-4727-ba29-7ddce69df3ae",
   "metadata": {},
   "outputs": [],
   "source": [
    "#or \n",
    "## docker run -p 5432:5432 --name pg postgres"
   ]
  },
  {
   "cell_type": "code",
   "execution_count": 3,
   "id": "3f695146-0c6c-4ead-a317-b0e477a35cbb",
   "metadata": {},
   "outputs": [],
   "source": [
    "# run in another terminal to run pgadmin in other container\n",
    "## docker run -p 5555:80 --name pgadmin -e PGADMIN_DEFAULT_EMAIL=\"indhu\" -e PGADMIN_DEFAULT_PASSWORD=\"password\" dpage/pgadmin4"
   ]
  },
  {
   "cell_type": "code",
   "execution_count": null,
   "id": "7583d152-fd2e-4080-80ca-c701d1ff3780",
   "metadata": {},
   "outputs": [],
   "source": []
  }
 ],
 "metadata": {
  "kernelspec": {
   "display_name": "Python 3 (ipykernel)",
   "language": "python",
   "name": "python3"
  },
  "language_info": {
   "codemirror_mode": {
    "name": "ipython",
    "version": 3
   },
   "file_extension": ".py",
   "mimetype": "text/x-python",
   "name": "python",
   "nbconvert_exporter": "python",
   "pygments_lexer": "ipython3",
   "version": "3.10.0"
  },
  "widgets": {
   "application/vnd.jupyter.widget-state+json": {
    "state": {},
    "version_major": 2,
    "version_minor": 0
   }
  }
 },
 "nbformat": 4,
 "nbformat_minor": 5
}
