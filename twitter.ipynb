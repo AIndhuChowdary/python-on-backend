{
 "cells": [
  {
   "cell_type": "code",
   "execution_count": 9,
   "id": "3483ea9d-8c84-4abf-a5d8-473f695048b9",
   "metadata": {},
   "outputs": [
    {
     "name": "stdout",
     "output_type": "stream",
     "text": [
      "/bin/bash: -c: line 0: syntax error near unexpected token `('\n",
      "/bin/bash: -c: line 0: `[Twitter image](https://pngimg.com/image/26975)'\n"
     ]
    }
   ],
   "source": [
    "# This is my twitter app\n",
    "![Twitter image](https://pngimg.com/image/26975)"
   ]
  },
  {
   "cell_type": "code",
   "execution_count": 10,
   "id": "16be0225-9e7f-4385-8a3a-bf550dd7dea4",
   "metadata": {},
   "outputs": [
    {
     "name": "stdout",
     "output_type": "stream",
     "text": [
      "Enter your name sir, madam: \n"
     ]
    },
    {
     "name": "stdin",
     "output_type": "stream",
     "text": [
      " Indhu\n"
     ]
    }
   ],
   "source": [
    "print(\"Enter your name sir, madam: \")\n",
    "name = input()"
   ]
  },
  {
   "cell_type": "code",
   "execution_count": 11,
   "id": "ff9ba413-3bb3-40a6-a01e-f352a6e80372",
   "metadata": {},
   "outputs": [
    {
     "name": "stdout",
     "output_type": "stream",
     "text": [
      "Hello! Indhu\n"
     ]
    }
   ],
   "source": [
    "print(f\"Hello! {name}\")"
   ]
  },
  {
   "cell_type": "code",
   "execution_count": 12,
   "id": "4e2fea2a-9af8-451f-bb21-db40afa7bf43",
   "metadata": {},
   "outputs": [
    {
     "name": "stdout",
     "output_type": "stream",
     "text": [
      "Enter your tweet: (-1 to exit)\n"
     ]
    },
    {
     "name": "stdin",
     "output_type": "stream",
     "text": [
      " hey! good day\n"
     ]
    },
    {
     "name": "stdout",
     "output_type": "stream",
     "text": [
      "Enter your tweet: (-1 to exit)\n"
     ]
    },
    {
     "name": "stdin",
     "output_type": "stream",
     "text": [
      " -1\n"
     ]
    }
   ],
   "source": [
    "tweets = [\"ID\", \"Tweet\"]\n",
    "tweetcount = 0\n",
    "while (True):\n",
    "    print(\"Enter your tweet: (-1 to exit)\")\n",
    "    tweet = input()\n",
    "    if (tweet == \"-1\"):\n",
    "        break\n",
    "    tweetcount = tweetcount + 1\n",
    "    tweets.append([tweetcount, tweet])"
   ]
  },
  {
   "cell_type": "code",
   "execution_count": 13,
   "id": "4e8ef23e-2d7b-4dc3-9beb-409a9d6cc309",
   "metadata": {},
   "outputs": [
    {
     "name": "stdout",
     "output_type": "stream",
     "text": [
      "ID\n",
      "Tweet\n",
      "[1, 'hey! good day']\n"
     ]
    }
   ],
   "source": [
    "for t in tweets:\n",
    "    print(t)"
   ]
  },
  {
   "cell_type": "code",
   "execution_count": 14,
   "id": "36073794-9bb7-4815-ad5b-2df2250bbcaf",
   "metadata": {},
   "outputs": [
    {
     "name": "stdout",
     "output_type": "stream",
     "text": [
      "Requirement already satisfied: tabulate in /Library/Frameworks/Python.framework/Versions/3.10/lib/python3.10/site-packages (0.9.0)\n",
      "\n",
      "\u001b[1m[\u001b[0m\u001b[34;49mnotice\u001b[0m\u001b[1;39;49m]\u001b[0m\u001b[39;49m A new release of pip is available: \u001b[0m\u001b[31;49m24.3.1\u001b[0m\u001b[39;49m -> \u001b[0m\u001b[32;49m25.0.1\u001b[0m\n",
      "\u001b[1m[\u001b[0m\u001b[34;49mnotice\u001b[0m\u001b[1;39;49m]\u001b[0m\u001b[39;49m To update, run: \u001b[0m\u001b[32;49mpip install --upgrade pip\u001b[0m\n"
     ]
    }
   ],
   "source": [
    "!pip install tabulate"
   ]
  },
  {
   "cell_type": "code",
   "execution_count": 15,
   "id": "977600e7-2fc8-4bbb-9294-d0e7b6ac244a",
   "metadata": {},
   "outputs": [
    {
     "data": {
      "text/html": [
       "<table>\n",
       "<tbody>\n",
       "<tr><td>I</td><td>D            </td><td> </td><td> </td><td> </td></tr>\n",
       "<tr><td>T</td><td>w            </td><td>e</td><td>e</td><td>t</td></tr>\n",
       "<tr><td>1</td><td>hey! good day</td><td> </td><td> </td><td> </td></tr>\n",
       "</tbody>\n",
       "</table>"
      ],
      "text/plain": [
       "<IPython.core.display.HTML object>"
      ]
     },
     "metadata": {},
     "output_type": "display_data"
    }
   ],
   "source": [
    "from IPython.display import HTML, display\n",
    "import tabulate\n",
    "\n",
    "display(HTML(tabulate.tabulate(tweets, tablefmt=\"html\") ))"
   ]
  },
  {
   "cell_type": "code",
   "execution_count": null,
   "id": "3f09f648-72c4-4384-b1d3-760b314fdabf",
   "metadata": {},
   "outputs": [],
   "source": []
  }
 ],
 "metadata": {
  "kernelspec": {
   "display_name": "Python 3 (ipykernel)",
   "language": "python",
   "name": "python3"
  },
  "language_info": {
   "codemirror_mode": {
    "name": "ipython",
    "version": 3
   },
   "file_extension": ".py",
   "mimetype": "text/x-python",
   "name": "python",
   "nbconvert_exporter": "python",
   "pygments_lexer": "ipython3",
   "version": "3.10.0"
  }
 },
 "nbformat": 4,
 "nbformat_minor": 5
}
